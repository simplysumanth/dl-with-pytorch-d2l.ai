{
  "nbformat": 4,
  "nbformat_minor": 0,
  "metadata": {
    "colab": {
      "name": "dl-ch5.ipynb",
      "provenance": [],
      "collapsed_sections": [],
      "authorship_tag": "ABX9TyNrCOxXsMd+WSwmF9pHE0lX",
      "include_colab_link": true
    },
    "kernelspec": {
      "name": "python3",
      "display_name": "Python 3"
    },
    "language_info": {
      "name": "python"
    }
  },
  "cells": [
    {
      "cell_type": "markdown",
      "metadata": {
        "id": "view-in-github",
        "colab_type": "text"
      },
      "source": [
        "<a href=\"https://colab.research.google.com/github/simplysumanth/dl-with-pytorch-d2l.ai/blob/main/dl_ch5.ipynb\" target=\"_parent\"><img src=\"https://colab.research.google.com/assets/colab-badge.svg\" alt=\"Open In Colab\"/></a>"
      ]
    },
    {
      "cell_type": "code",
      "metadata": {
        "id": "fbTpjsrGE2Dd"
      },
      "source": [
        "import torch\n",
        "from torch import nn as nn\n",
        "from torch.nn import functional as F"
      ],
      "execution_count": 3,
      "outputs": []
    },
    {
      "cell_type": "code",
      "metadata": {
        "id": "lUUxAzXwF7Rb"
      },
      "source": [
        "net = nn.Sequential(\n",
        "    nn.Linear(20,256),\n",
        "    nn.ReLU(),\n",
        "    nn.Linear(256,10))"
      ],
      "execution_count": 16,
      "outputs": []
    },
    {
      "cell_type": "code",
      "metadata": {
        "colab": {
          "base_uri": "https://localhost:8080/"
        },
        "id": "UCMuAd6RGrwk",
        "outputId": "2730559b-c593-4888-d68e-b3aa9410b317"
      },
      "source": [
        "X = torch.rand(2,20)\n",
        "X.size()"
      ],
      "execution_count": 14,
      "outputs": [
        {
          "output_type": "execute_result",
          "data": {
            "text/plain": [
              "torch.Size([2, 20])"
            ]
          },
          "metadata": {
            "tags": []
          },
          "execution_count": 14
        }
      ]
    },
    {
      "cell_type": "code",
      "metadata": {
        "colab": {
          "base_uri": "https://localhost:8080/"
        },
        "id": "szLsejKTG09G",
        "outputId": "46c3466e-51a0-497a-f76a-fafb57246b68"
      },
      "source": [
        "net(X)"
      ],
      "execution_count": 18,
      "outputs": [
        {
          "output_type": "execute_result",
          "data": {
            "text/plain": [
              "tensor([[-0.0934, -0.1850,  0.1932,  0.1837,  0.0577, -0.1174, -0.0829, -0.0458,\n",
              "          0.0661,  0.1085],\n",
              "        [ 0.0216, -0.1286,  0.0506,  0.2221, -0.0118, -0.0776, -0.0821, -0.0264,\n",
              "          0.0786, -0.0148]], grad_fn=<AddmmBackward>)"
            ]
          },
          "metadata": {
            "tags": []
          },
          "execution_count": 18
        }
      ]
    },
    {
      "cell_type": "code",
      "metadata": {
        "id": "9YVgreoTG11-"
      },
      "source": [
        "class MLP(nn.Module):\n",
        "  def __init__(self):\n",
        "    super().__init__()\n",
        "    self.hidden = nn.Linear(20,256)\n",
        "    self.out = nn.Linear(256,10)\n",
        "  \n",
        "  def forward(self,x):\n",
        "    return self.out(F.relu(self.hidden(X)))"
      ],
      "execution_count": 21,
      "outputs": []
    },
    {
      "cell_type": "code",
      "metadata": {
        "colab": {
          "base_uri": "https://localhost:8080/"
        },
        "id": "aUZzmf4oK_Ak",
        "outputId": "127ca287-4ea2-4d02-f0e7-ebf74eea132c"
      },
      "source": [
        "net = MLP()\n",
        "net(X)"
      ],
      "execution_count": 22,
      "outputs": [
        {
          "output_type": "execute_result",
          "data": {
            "text/plain": [
              "tensor([[-0.3284,  0.3045,  0.1374, -0.0380,  0.0493, -0.1134,  0.1358, -0.2331,\n",
              "          0.0713,  0.0265],\n",
              "        [-0.2625,  0.3253,  0.0970,  0.0459,  0.1228, -0.1703,  0.1543, -0.2827,\n",
              "          0.0287, -0.0181]], grad_fn=<AddmmBackward>)"
            ]
          },
          "metadata": {
            "tags": []
          },
          "execution_count": 22
        }
      ]
    },
    {
      "cell_type": "code",
      "metadata": {
        "id": "rxxpRoIyLNP2"
      },
      "source": [
        ""
      ],
      "execution_count": null,
      "outputs": []
    }
  ]
}